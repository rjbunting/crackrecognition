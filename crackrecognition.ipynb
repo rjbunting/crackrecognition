{
 "cells": [
  {
   "cell_type": "code",
   "execution_count": null,
   "id": "initial_id",
   "metadata": {
    "collapsed": true
   },
   "outputs": [],
   "source": [
    "import cv2 as cv\n",
    "import matplotlib.pyplot as plt\n",
    "import numpy as np"
   ]
  },
  {
   "cell_type": "code",
   "execution_count": null,
   "outputs": [],
   "source": [
    "picture = './input/crack3.tif'\n",
    "img_demo = cv.imread(picture)\n",
    "plt.imshow(img_demo)\n",
    "plt.xticks([]), plt.yticks([])\n",
    "plt.show()"
   ],
   "metadata": {
    "collapsed": false
   },
   "id": "53f1f8f22802477a"
  },
  {
   "cell_type": "code",
   "execution_count": null,
   "outputs": [],
   "source": [
    "img = cv.imread(picture, cv.IMREAD_GRAYSCALE)\n",
    "plt.imshow(img)\n",
    "plt.xticks([]), plt.yticks([])\n",
    "plt.show()"
   ],
   "metadata": {
    "collapsed": false
   },
   "id": "9b59d0f2f615157"
  },
  {
   "cell_type": "code",
   "execution_count": null,
   "outputs": [],
   "source": [
    "height = img.shape[0]\n",
    "width = img.shape[1]\n",
    "img_crop = img[0:height-60, 0:width]"
   ],
   "metadata": {
    "collapsed": false
   },
   "id": "486a6f938cc6fe7e"
  },
  {
   "cell_type": "markdown",
   "source": [],
   "metadata": {
    "collapsed": false
   },
   "id": "226b4e55666e6831"
  },
  {
   "cell_type": "code",
   "execution_count": null,
   "outputs": [],
   "source": [
    "plt.imshow(img_crop)\n",
    "plt.xticks([]), plt.yticks([])\n",
    "plt.show()"
   ],
   "metadata": {
    "collapsed": false
   },
   "id": "405b621083c54980"
  },
  {
   "cell_type": "code",
   "execution_count": null,
   "outputs": [],
   "source": [
    "img_smooth = cv.bilateralFilter(img_crop, 5,25,25)"
   ],
   "metadata": {
    "collapsed": false
   },
   "id": "d8f9e0b02f606132"
  },
  {
   "cell_type": "code",
   "execution_count": null,
   "outputs": [],
   "source": [
    "plt.imshow(img_smooth)\n",
    "plt.xticks([]), plt.yticks([])\n",
    "plt.show()"
   ],
   "metadata": {
    "collapsed": false
   },
   "id": "b55fbcde4a4cf35a"
  },
  {
   "cell_type": "code",
   "execution_count": null,
   "outputs": [],
   "source": [
    "ret, img_proc = cv.threshold(img_smooth, 75, 255, cv.THRESH_BINARY)"
   ],
   "metadata": {
    "collapsed": false
   },
   "id": "5820727990d419cc"
  },
  {
   "cell_type": "code",
   "execution_count": null,
   "outputs": [],
   "source": [
    "plt.imshow(img_proc)\n",
    "plt.xticks([]), plt.yticks([])\n",
    "plt.show()"
   ],
   "metadata": {
    "collapsed": false
   },
   "id": "6105fd3e7544da4a"
  },
  {
   "cell_type": "code",
   "execution_count": null,
   "outputs": [],
   "source": [
    "pixels = np.prod(img_proc.shape)\n",
    "crackpixels = list(np.unique(img_proc, return_counts=True)[1])[0]\n",
    "percentcrack = crackpixels / pixels"
   ],
   "metadata": {
    "collapsed": false
   },
   "id": "ff36891f46dae97d"
  },
  {
   "cell_type": "code",
   "execution_count": null,
   "outputs": [],
   "source": [
    "print(percentcrack * 100)"
   ],
   "metadata": {
    "collapsed": false
   },
   "id": "970388486b5025dd"
  },
  {
   "cell_type": "code",
   "execution_count": null,
   "outputs": [],
   "source": [],
   "metadata": {
    "collapsed": false
   },
   "id": "ffc495e984505993"
  }
 ],
 "metadata": {
  "kernelspec": {
   "display_name": "Python 3",
   "language": "python",
   "name": "python3"
  },
  "language_info": {
   "codemirror_mode": {
    "name": "ipython",
    "version": 2
   },
   "file_extension": ".py",
   "mimetype": "text/x-python",
   "name": "python",
   "nbconvert_exporter": "python",
   "pygments_lexer": "ipython2",
   "version": "2.7.6"
  }
 },
 "nbformat": 4,
 "nbformat_minor": 5
}
